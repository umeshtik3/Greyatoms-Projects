{
 "cells": [
  {
   "cell_type": "markdown",
   "metadata": {},
   "source": [
    "### Load and split the dataset\n",
    "- Load the train data and using all your knowledge of pandas try to explore the different statistical properties of the dataset.\n",
    "- Separate the features and target and then split the train data into train and validation set."
   ]
  },
  {
   "cell_type": "code",
   "execution_count": 27,
   "metadata": {},
   "outputs": [],
   "source": [
    "import pandas as pd\n",
    "import numpy as np\n",
    "import matplotlib.pyplot as plt\n",
    "from sklearn.model_selection import train_test_split\n",
    "from sklearn.linear_model import LinearRegression\n",
    "from sklearn.metrics import mean_squared_error, r2_score\n",
    "from sklearn.metrics import accuracy_score\n",
    "import seaborn as sns\n",
    "import warnings\n",
    "warnings.filterwarnings(\"ignore\")"
   ]
  },
  {
   "cell_type": "code",
   "execution_count": 28,
   "metadata": {},
   "outputs": [],
   "source": [
    "# Code starts here\n",
    "train = pd.read_csv('train.csv')\n",
    "test = pd.read_csv('test.csv')\n",
    "ss = pd.read_csv('sample_submission.csv')\n",
    "# Code ends here."
   ]
  },
  {
   "cell_type": "code",
   "execution_count": 29,
   "metadata": {},
   "outputs": [
    {
     "data": {
      "text/html": [
       "<div>\n",
       "<style scoped>\n",
       "    .dataframe tbody tr th:only-of-type {\n",
       "        vertical-align: middle;\n",
       "    }\n",
       "\n",
       "    .dataframe tbody tr th {\n",
       "        vertical-align: top;\n",
       "    }\n",
       "\n",
       "    .dataframe thead th {\n",
       "        text-align: right;\n",
       "    }\n",
       "</style>\n",
       "<table border=\"1\" class=\"dataframe\">\n",
       "  <thead>\n",
       "    <tr style=\"text-align: right;\">\n",
       "      <th></th>\n",
       "      <th>ages</th>\n",
       "      <th>list_price</th>\n",
       "      <th>num_reviews</th>\n",
       "      <th>piece_count</th>\n",
       "      <th>play_star_rating</th>\n",
       "      <th>review_difficulty</th>\n",
       "      <th>star_rating</th>\n",
       "      <th>theme_name</th>\n",
       "      <th>val_star_rating</th>\n",
       "      <th>country</th>\n",
       "      <th>Id</th>\n",
       "    </tr>\n",
       "  </thead>\n",
       "  <tbody>\n",
       "    <tr>\n",
       "      <th>0</th>\n",
       "      <td>8</td>\n",
       "      <td>155.8800</td>\n",
       "      <td>202</td>\n",
       "      <td>2469</td>\n",
       "      <td>4.7</td>\n",
       "      <td>1</td>\n",
       "      <td>4.9</td>\n",
       "      <td>9</td>\n",
       "      <td>4.7</td>\n",
       "      <td>7</td>\n",
       "      <td>0</td>\n",
       "    </tr>\n",
       "    <tr>\n",
       "      <th>1</th>\n",
       "      <td>26</td>\n",
       "      <td>19.9900</td>\n",
       "      <td>9</td>\n",
       "      <td>252</td>\n",
       "      <td>4.8</td>\n",
       "      <td>0</td>\n",
       "      <td>4.6</td>\n",
       "      <td>39</td>\n",
       "      <td>4.6</td>\n",
       "      <td>20</td>\n",
       "      <td>1</td>\n",
       "    </tr>\n",
       "    <tr>\n",
       "      <th>2</th>\n",
       "      <td>26</td>\n",
       "      <td>91.6980</td>\n",
       "      <td>56</td>\n",
       "      <td>659</td>\n",
       "      <td>4.6</td>\n",
       "      <td>0</td>\n",
       "      <td>4.6</td>\n",
       "      <td>34</td>\n",
       "      <td>3.9</td>\n",
       "      <td>4</td>\n",
       "      <td>2</td>\n",
       "    </tr>\n",
       "    <tr>\n",
       "      <th>3</th>\n",
       "      <td>11</td>\n",
       "      <td>24.3878</td>\n",
       "      <td>1</td>\n",
       "      <td>19</td>\n",
       "      <td>3.0</td>\n",
       "      <td>5</td>\n",
       "      <td>4.0</td>\n",
       "      <td>13</td>\n",
       "      <td>4.0</td>\n",
       "      <td>10</td>\n",
       "      <td>3</td>\n",
       "    </tr>\n",
       "    <tr>\n",
       "      <th>4</th>\n",
       "      <td>7</td>\n",
       "      <td>609.9878</td>\n",
       "      <td>84</td>\n",
       "      <td>4016</td>\n",
       "      <td>4.5</td>\n",
       "      <td>1</td>\n",
       "      <td>3.9</td>\n",
       "      <td>34</td>\n",
       "      <td>3.5</td>\n",
       "      <td>10</td>\n",
       "      <td>4</td>\n",
       "    </tr>\n",
       "  </tbody>\n",
       "</table>\n",
       "</div>"
      ],
      "text/plain": [
       "   ages  list_price  num_reviews  piece_count  play_star_rating  \\\n",
       "0     8    155.8800          202         2469               4.7   \n",
       "1    26     19.9900            9          252               4.8   \n",
       "2    26     91.6980           56          659               4.6   \n",
       "3    11     24.3878            1           19               3.0   \n",
       "4     7    609.9878           84         4016               4.5   \n",
       "\n",
       "   review_difficulty  star_rating  theme_name  val_star_rating  country  Id  \n",
       "0                  1          4.9           9              4.7        7   0  \n",
       "1                  0          4.6          39              4.6       20   1  \n",
       "2                  0          4.6          34              3.9        4   2  \n",
       "3                  5          4.0          13              4.0       10   3  \n",
       "4                  1          3.9          34              3.5       10   4  "
      ]
     },
     "execution_count": 29,
     "metadata": {},
     "output_type": "execute_result"
    }
   ],
   "source": [
    "train.head()"
   ]
  },
  {
   "cell_type": "code",
   "execution_count": 30,
   "metadata": {},
   "outputs": [
    {
     "data": {
      "text/html": [
       "<div>\n",
       "<style scoped>\n",
       "    .dataframe tbody tr th:only-of-type {\n",
       "        vertical-align: middle;\n",
       "    }\n",
       "\n",
       "    .dataframe tbody tr th {\n",
       "        vertical-align: top;\n",
       "    }\n",
       "\n",
       "    .dataframe thead th {\n",
       "        text-align: right;\n",
       "    }\n",
       "</style>\n",
       "<table border=\"1\" class=\"dataframe\">\n",
       "  <thead>\n",
       "    <tr style=\"text-align: right;\">\n",
       "      <th></th>\n",
       "      <th>ages</th>\n",
       "      <th>num_reviews</th>\n",
       "      <th>piece_count</th>\n",
       "      <th>play_star_rating</th>\n",
       "      <th>review_difficulty</th>\n",
       "      <th>star_rating</th>\n",
       "      <th>theme_name</th>\n",
       "      <th>val_star_rating</th>\n",
       "      <th>country</th>\n",
       "      <th>Id</th>\n",
       "    </tr>\n",
       "  </thead>\n",
       "  <tbody>\n",
       "    <tr>\n",
       "      <th>0</th>\n",
       "      <td>26</td>\n",
       "      <td>8</td>\n",
       "      <td>941</td>\n",
       "      <td>4.6</td>\n",
       "      <td>0</td>\n",
       "      <td>4.6</td>\n",
       "      <td>33</td>\n",
       "      <td>4.3</td>\n",
       "      <td>16</td>\n",
       "      <td>9907</td>\n",
       "    </tr>\n",
       "    <tr>\n",
       "      <th>1</th>\n",
       "      <td>11</td>\n",
       "      <td>0</td>\n",
       "      <td>19</td>\n",
       "      <td>0.0</td>\n",
       "      <td>5</td>\n",
       "      <td>0.0</td>\n",
       "      <td>13</td>\n",
       "      <td>0.0</td>\n",
       "      <td>7</td>\n",
       "      <td>5243</td>\n",
       "    </tr>\n",
       "    <tr>\n",
       "      <th>2</th>\n",
       "      <td>29</td>\n",
       "      <td>34</td>\n",
       "      <td>1376</td>\n",
       "      <td>4.0</td>\n",
       "      <td>1</td>\n",
       "      <td>4.3</td>\n",
       "      <td>34</td>\n",
       "      <td>3.8</td>\n",
       "      <td>12</td>\n",
       "      <td>8276</td>\n",
       "    </tr>\n",
       "    <tr>\n",
       "      <th>3</th>\n",
       "      <td>26</td>\n",
       "      <td>0</td>\n",
       "      <td>369</td>\n",
       "      <td>0.0</td>\n",
       "      <td>5</td>\n",
       "      <td>0.0</td>\n",
       "      <td>28</td>\n",
       "      <td>0.0</td>\n",
       "      <td>9</td>\n",
       "      <td>6501</td>\n",
       "    </tr>\n",
       "    <tr>\n",
       "      <th>4</th>\n",
       "      <td>11</td>\n",
       "      <td>1</td>\n",
       "      <td>19</td>\n",
       "      <td>3.0</td>\n",
       "      <td>5</td>\n",
       "      <td>4.0</td>\n",
       "      <td>13</td>\n",
       "      <td>4.0</td>\n",
       "      <td>0</td>\n",
       "      <td>1619</td>\n",
       "    </tr>\n",
       "  </tbody>\n",
       "</table>\n",
       "</div>"
      ],
      "text/plain": [
       "   ages  num_reviews  piece_count  play_star_rating  review_difficulty  \\\n",
       "0    26            8          941               4.6                  0   \n",
       "1    11            0           19               0.0                  5   \n",
       "2    29           34         1376               4.0                  1   \n",
       "3    26            0          369               0.0                  5   \n",
       "4    11            1           19               3.0                  5   \n",
       "\n",
       "   star_rating  theme_name  val_star_rating  country    Id  \n",
       "0          4.6          33              4.3       16  9907  \n",
       "1          0.0          13              0.0        7  5243  \n",
       "2          4.3          34              3.8       12  8276  \n",
       "3          0.0          28              0.0        9  6501  \n",
       "4          4.0          13              4.0        0  1619  "
      ]
     },
     "execution_count": 30,
     "metadata": {},
     "output_type": "execute_result"
    }
   ],
   "source": [
    "test.head()"
   ]
  },
  {
   "cell_type": "code",
   "execution_count": 31,
   "metadata": {},
   "outputs": [
    {
     "data": {
      "text/html": [
       "<div>\n",
       "<style scoped>\n",
       "    .dataframe tbody tr th:only-of-type {\n",
       "        vertical-align: middle;\n",
       "    }\n",
       "\n",
       "    .dataframe tbody tr th {\n",
       "        vertical-align: top;\n",
       "    }\n",
       "\n",
       "    .dataframe thead th {\n",
       "        text-align: right;\n",
       "    }\n",
       "</style>\n",
       "<table border=\"1\" class=\"dataframe\">\n",
       "  <thead>\n",
       "    <tr style=\"text-align: right;\">\n",
       "      <th></th>\n",
       "      <th>ages</th>\n",
       "      <th>num_reviews</th>\n",
       "      <th>piece_count</th>\n",
       "      <th>play_star_rating</th>\n",
       "      <th>review_difficulty</th>\n",
       "      <th>star_rating</th>\n",
       "      <th>theme_name</th>\n",
       "      <th>val_star_rating</th>\n",
       "      <th>country</th>\n",
       "      <th>Id</th>\n",
       "    </tr>\n",
       "  </thead>\n",
       "  <tbody>\n",
       "    <tr>\n",
       "      <th>0</th>\n",
       "      <td>26</td>\n",
       "      <td>8</td>\n",
       "      <td>941</td>\n",
       "      <td>4.6</td>\n",
       "      <td>0</td>\n",
       "      <td>4.6</td>\n",
       "      <td>33</td>\n",
       "      <td>4.3</td>\n",
       "      <td>16</td>\n",
       "      <td>9907</td>\n",
       "    </tr>\n",
       "    <tr>\n",
       "      <th>1</th>\n",
       "      <td>11</td>\n",
       "      <td>0</td>\n",
       "      <td>19</td>\n",
       "      <td>0.0</td>\n",
       "      <td>5</td>\n",
       "      <td>0.0</td>\n",
       "      <td>13</td>\n",
       "      <td>0.0</td>\n",
       "      <td>7</td>\n",
       "      <td>5243</td>\n",
       "    </tr>\n",
       "    <tr>\n",
       "      <th>2</th>\n",
       "      <td>29</td>\n",
       "      <td>34</td>\n",
       "      <td>1376</td>\n",
       "      <td>4.0</td>\n",
       "      <td>1</td>\n",
       "      <td>4.3</td>\n",
       "      <td>34</td>\n",
       "      <td>3.8</td>\n",
       "      <td>12</td>\n",
       "      <td>8276</td>\n",
       "    </tr>\n",
       "    <tr>\n",
       "      <th>3</th>\n",
       "      <td>26</td>\n",
       "      <td>0</td>\n",
       "      <td>369</td>\n",
       "      <td>0.0</td>\n",
       "      <td>5</td>\n",
       "      <td>0.0</td>\n",
       "      <td>28</td>\n",
       "      <td>0.0</td>\n",
       "      <td>9</td>\n",
       "      <td>6501</td>\n",
       "    </tr>\n",
       "    <tr>\n",
       "      <th>4</th>\n",
       "      <td>11</td>\n",
       "      <td>1</td>\n",
       "      <td>19</td>\n",
       "      <td>3.0</td>\n",
       "      <td>5</td>\n",
       "      <td>4.0</td>\n",
       "      <td>13</td>\n",
       "      <td>4.0</td>\n",
       "      <td>0</td>\n",
       "      <td>1619</td>\n",
       "    </tr>\n",
       "  </tbody>\n",
       "</table>\n",
       "</div>"
      ],
      "text/plain": [
       "   ages  num_reviews  piece_count  play_star_rating  review_difficulty  \\\n",
       "0    26            8          941               4.6                  0   \n",
       "1    11            0           19               0.0                  5   \n",
       "2    29           34         1376               4.0                  1   \n",
       "3    26            0          369               0.0                  5   \n",
       "4    11            1           19               3.0                  5   \n",
       "\n",
       "   star_rating  theme_name  val_star_rating  country    Id  \n",
       "0          4.6          33              4.3       16  9907  \n",
       "1          0.0          13              0.0        7  5243  \n",
       "2          4.3          34              3.8       12  8276  \n",
       "3          0.0          28              0.0        9  6501  \n",
       "4          4.0          13              4.0        0  1619  "
      ]
     },
     "execution_count": 31,
     "metadata": {},
     "output_type": "execute_result"
    }
   ],
   "source": [
    "test.head()"
   ]
  },
  {
   "cell_type": "code",
   "execution_count": 32,
   "metadata": {},
   "outputs": [],
   "source": [
    "ID,TARGET  = 'Id' , 'list_price' \n"
   ]
  },
  {
   "cell_type": "code",
   "execution_count": 33,
   "metadata": {},
   "outputs": [
    {
     "name": "stdout",
     "output_type": "stream",
     "text": [
      "Train data contains 8582 and 11 Columns\n",
      "Test data contains 3679 and 10 Columns\n",
      "features in data 9 \n"
     ]
    }
   ],
   "source": [
    "print(f'Train data contains {train.shape[0]} and {train.shape[1]} Columns')\n",
    "print(f'Test data contains {test.shape[0]} and {test.shape[1]} Columns')\n",
    "\n",
    "features = [i for i in train.columns if i not in [ID,TARGET]]\n",
    "print(f'features in data {len(features)} ')"
   ]
  },
  {
   "cell_type": "code",
   "execution_count": 34,
   "metadata": {},
   "outputs": [
    {
     "data": {
      "text/plain": [
       "ages                 0\n",
       "list_price           0\n",
       "num_reviews          0\n",
       "piece_count          0\n",
       "play_star_rating     0\n",
       "review_difficulty    0\n",
       "star_rating          0\n",
       "theme_name           0\n",
       "val_star_rating      0\n",
       "country              0\n",
       "Id                   0\n",
       "dtype: int64"
      ]
     },
     "execution_count": 34,
     "metadata": {},
     "output_type": "execute_result"
    }
   ],
   "source": [
    "train.isnull().sum()"
   ]
  },
  {
   "cell_type": "code",
   "execution_count": 35,
   "metadata": {},
   "outputs": [
    {
     "data": {
      "text/html": [
       "<div>\n",
       "<style scoped>\n",
       "    .dataframe tbody tr th:only-of-type {\n",
       "        vertical-align: middle;\n",
       "    }\n",
       "\n",
       "    .dataframe tbody tr th {\n",
       "        vertical-align: top;\n",
       "    }\n",
       "\n",
       "    .dataframe thead th {\n",
       "        text-align: right;\n",
       "    }\n",
       "</style>\n",
       "<table border=\"1\" class=\"dataframe\">\n",
       "  <thead>\n",
       "    <tr style=\"text-align: right;\">\n",
       "      <th></th>\n",
       "      <th>ages</th>\n",
       "      <th>list_price</th>\n",
       "      <th>num_reviews</th>\n",
       "      <th>piece_count</th>\n",
       "      <th>play_star_rating</th>\n",
       "      <th>review_difficulty</th>\n",
       "      <th>star_rating</th>\n",
       "      <th>theme_name</th>\n",
       "      <th>val_star_rating</th>\n",
       "      <th>country</th>\n",
       "      <th>Id</th>\n",
       "    </tr>\n",
       "  </thead>\n",
       "  <tbody>\n",
       "    <tr>\n",
       "      <th>count</th>\n",
       "      <td>8582.000000</td>\n",
       "      <td>8582.000000</td>\n",
       "      <td>8582.000000</td>\n",
       "      <td>8582.000000</td>\n",
       "      <td>8582.000000</td>\n",
       "      <td>8582.000000</td>\n",
       "      <td>8582.000000</td>\n",
       "      <td>8582.000000</td>\n",
       "      <td>8582.000000</td>\n",
       "      <td>8582.000000</td>\n",
       "      <td>8582.000000</td>\n",
       "    </tr>\n",
       "    <tr>\n",
       "      <th>mean</th>\n",
       "      <td>16.649149</td>\n",
       "      <td>64.493463</td>\n",
       "      <td>14.680727</td>\n",
       "      <td>486.677464</td>\n",
       "      <td>3.697809</td>\n",
       "      <td>1.994640</td>\n",
       "      <td>3.904649</td>\n",
       "      <td>20.482172</td>\n",
       "      <td>3.597448</td>\n",
       "      <td>10.045211</td>\n",
       "      <td>4290.500000</td>\n",
       "    </tr>\n",
       "    <tr>\n",
       "      <th>std</th>\n",
       "      <td>8.186261</td>\n",
       "      <td>89.871631</td>\n",
       "      <td>34.867561</td>\n",
       "      <td>802.789725</td>\n",
       "      <td>1.653742</td>\n",
       "      <td>1.792387</td>\n",
       "      <td>1.617678</td>\n",
       "      <td>11.948618</td>\n",
       "      <td>1.624698</td>\n",
       "      <td>6.191468</td>\n",
       "      <td>2477.554338</td>\n",
       "    </tr>\n",
       "    <tr>\n",
       "      <th>min</th>\n",
       "      <td>0.000000</td>\n",
       "      <td>2.272400</td>\n",
       "      <td>0.000000</td>\n",
       "      <td>1.000000</td>\n",
       "      <td>0.000000</td>\n",
       "      <td>0.000000</td>\n",
       "      <td>0.000000</td>\n",
       "      <td>0.000000</td>\n",
       "      <td>0.000000</td>\n",
       "      <td>0.000000</td>\n",
       "      <td>0.000000</td>\n",
       "    </tr>\n",
       "    <tr>\n",
       "      <th>25%</th>\n",
       "      <td>11.000000</td>\n",
       "      <td>19.990000</td>\n",
       "      <td>1.000000</td>\n",
       "      <td>95.000000</td>\n",
       "      <td>3.600000</td>\n",
       "      <td>0.000000</td>\n",
       "      <td>4.000000</td>\n",
       "      <td>9.000000</td>\n",
       "      <td>3.500000</td>\n",
       "      <td>4.000000</td>\n",
       "      <td>2145.250000</td>\n",
       "    </tr>\n",
       "    <tr>\n",
       "      <th>50%</th>\n",
       "      <td>19.000000</td>\n",
       "      <td>36.587800</td>\n",
       "      <td>4.000000</td>\n",
       "      <td>214.000000</td>\n",
       "      <td>4.400000</td>\n",
       "      <td>2.000000</td>\n",
       "      <td>4.600000</td>\n",
       "      <td>21.000000</td>\n",
       "      <td>4.200000</td>\n",
       "      <td>10.000000</td>\n",
       "      <td>4290.500000</td>\n",
       "    </tr>\n",
       "    <tr>\n",
       "      <th>75%</th>\n",
       "      <td>23.000000</td>\n",
       "      <td>71.298000</td>\n",
       "      <td>12.000000</td>\n",
       "      <td>544.000000</td>\n",
       "      <td>4.700000</td>\n",
       "      <td>4.000000</td>\n",
       "      <td>4.900000</td>\n",
       "      <td>34.000000</td>\n",
       "      <td>4.700000</td>\n",
       "      <td>15.000000</td>\n",
       "      <td>6435.750000</td>\n",
       "    </tr>\n",
       "    <tr>\n",
       "      <th>max</th>\n",
       "      <td>30.000000</td>\n",
       "      <td>1104.870000</td>\n",
       "      <td>367.000000</td>\n",
       "      <td>7541.000000</td>\n",
       "      <td>5.000000</td>\n",
       "      <td>5.000000</td>\n",
       "      <td>5.000000</td>\n",
       "      <td>40.000000</td>\n",
       "      <td>5.000000</td>\n",
       "      <td>20.000000</td>\n",
       "      <td>8581.000000</td>\n",
       "    </tr>\n",
       "  </tbody>\n",
       "</table>\n",
       "</div>"
      ],
      "text/plain": [
       "              ages   list_price  num_reviews  piece_count  play_star_rating  \\\n",
       "count  8582.000000  8582.000000  8582.000000  8582.000000       8582.000000   \n",
       "mean     16.649149    64.493463    14.680727   486.677464          3.697809   \n",
       "std       8.186261    89.871631    34.867561   802.789725          1.653742   \n",
       "min       0.000000     2.272400     0.000000     1.000000          0.000000   \n",
       "25%      11.000000    19.990000     1.000000    95.000000          3.600000   \n",
       "50%      19.000000    36.587800     4.000000   214.000000          4.400000   \n",
       "75%      23.000000    71.298000    12.000000   544.000000          4.700000   \n",
       "max      30.000000  1104.870000   367.000000  7541.000000          5.000000   \n",
       "\n",
       "       review_difficulty  star_rating   theme_name  val_star_rating  \\\n",
       "count        8582.000000  8582.000000  8582.000000      8582.000000   \n",
       "mean            1.994640     3.904649    20.482172         3.597448   \n",
       "std             1.792387     1.617678    11.948618         1.624698   \n",
       "min             0.000000     0.000000     0.000000         0.000000   \n",
       "25%             0.000000     4.000000     9.000000         3.500000   \n",
       "50%             2.000000     4.600000    21.000000         4.200000   \n",
       "75%             4.000000     4.900000    34.000000         4.700000   \n",
       "max             5.000000     5.000000    40.000000         5.000000   \n",
       "\n",
       "           country           Id  \n",
       "count  8582.000000  8582.000000  \n",
       "mean     10.045211  4290.500000  \n",
       "std       6.191468  2477.554338  \n",
       "min       0.000000     0.000000  \n",
       "25%       4.000000  2145.250000  \n",
       "50%      10.000000  4290.500000  \n",
       "75%      15.000000  6435.750000  \n",
       "max      20.000000  8581.000000  "
      ]
     },
     "execution_count": 35,
     "metadata": {},
     "output_type": "execute_result"
    }
   ],
   "source": [
    "train.describe()"
   ]
  },
  {
   "cell_type": "markdown",
   "metadata": {},
   "source": [
    "### Data Visualization\n",
    "\n",
    "- All the features including target variable are continuous. \n",
    "- Check out the best plots for plotting between continuous features and try making some inferences from these plots. "
   ]
  },
  {
   "cell_type": "code",
   "execution_count": 36,
   "metadata": {},
   "outputs": [
    {
     "data": {
      "image/png": "[encoded data removed]",
      "text/plain": [
       "<Figure size 432x288 with 1 Axes>"
      ]
     },
     "metadata": {
      "needs_background": "light"
     },
     "output_type": "display_data"
    }
   ],
   "source": [
    "# Code starts here\n",
    "\n",
    "sns.distplot(np.log(train[TARGET]))\n",
    "_ = plt.title(f' List Price distribution')\n",
    "_  = plt.show\n",
    "# Code ends here."
   ]
  },
  {
   "cell_type": "code",
   "execution_count": 37,
   "metadata": {},
   "outputs": [
    {
     "data": {
      "text/plain": [
       "<matplotlib.axes._subplots.AxesSubplot at 0x24eea2c7c40>"
      ]
     },
     "execution_count": 37,
     "metadata": {},
     "output_type": "execute_result"
    },
    {
     "data": {
      "image/png": "[encoded data removed]",
      "text/plain": [
       "<Figure size 432x288 with 1 Axes>"
      ]
     },
     "metadata": {
      "needs_background": "light"
     },
     "output_type": "display_data"
    }
   ],
   "source": [
    "train['ages'].plot(kind='hist')\n"
   ]
  },
  {
   "cell_type": "code",
   "execution_count": 38,
   "metadata": {},
   "outputs": [
    {
     "data": {
      "image/png": "[encoded data removed]",
      "text/plain": [
       "<Figure size 432x288 with 1 Axes>"
      ]
     },
     "metadata": {
      "needs_background": "light"
     },
     "output_type": "display_data"
    }
   ],
   "source": [
    "train['ages'].plot(kind='box')\n",
    "\n",
    "_ = plt.show()\n"
   ]
  },
  {
   "cell_type": "code",
   "execution_count": 39,
   "metadata": {},
   "outputs": [
    {
     "data": {
      "text/plain": [
       "<matplotlib.axes._subplots.AxesSubplot at 0x24eea33ad30>"
      ]
     },
     "execution_count": 39,
     "metadata": {},
     "output_type": "execute_result"
    },
    {
     "data": {
      "image/png": "[encoded data removed]",
      "text/plain": [
       "<Figure size 432x288 with 1 Axes>"
      ]
     },
     "metadata": {
      "needs_background": "light"
     },
     "output_type": "display_data"
    }
   ],
   "source": [
    "sns.scatterplot(x=train['ages'],y=train['list_price'])"
   ]
  },
  {
   "cell_type": "code",
   "execution_count": 40,
   "metadata": {},
   "outputs": [
    {
     "data": {
      "text/plain": [
       "<matplotlib.axes._subplots.AxesSubplot at 0x24eeb9b40a0>"
      ]
     },
     "execution_count": 40,
     "metadata": {},
     "output_type": "execute_result"
    },
    {
     "data": {
      "image/png": "[encoded data removed]",
      "text/plain": [
       "<Figure size 432x288 with 1 Axes>"
      ]
     },
     "metadata": {
      "needs_background": "light"
     },
     "output_type": "display_data"
    }
   ],
   "source": [
    "sns.scatterplot(x=train['num_reviews'],y=train['list_price'])"
   ]
  },
  {
   "cell_type": "code",
   "execution_count": 41,
   "metadata": {},
   "outputs": [
    {
     "data": {
      "text/plain": [
       "<matplotlib.axes._subplots.AxesSubplot at 0x24ee82c1610>"
      ]
     },
     "execution_count": 41,
     "metadata": {},
     "output_type": "execute_result"
    },
    {
     "data": {
      "image/png": "[encoded data removed]",
      "text/plain": [
       "<Figure size 432x288 with 1 Axes>"
      ]
     },
     "metadata": {
      "needs_background": "light"
     },
     "output_type": "display_data"
    }
   ],
   "source": [
    "sns.scatterplot(x=train['piece_count'],y=train['list_price'])"
   ]
  },
  {
   "cell_type": "markdown",
   "metadata": {},
   "source": [
    "### Feature Selection\n",
    "- Try selecting suitable threshold and accordingly drop the columns."
   ]
  },
  {
   "cell_type": "code",
   "execution_count": 42,
   "metadata": {},
   "outputs": [],
   "source": [
    "train.drop(columns=ID,axis = 1,inplace =True)"
   ]
  },
  {
   "cell_type": "code",
   "execution_count": 43,
   "metadata": {},
   "outputs": [
    {
     "data": {
      "text/html": [
       "<div>\n",
       "<style scoped>\n",
       "    .dataframe tbody tr th:only-of-type {\n",
       "        vertical-align: middle;\n",
       "    }\n",
       "\n",
       "    .dataframe tbody tr th {\n",
       "        vertical-align: top;\n",
       "    }\n",
       "\n",
       "    .dataframe thead th {\n",
       "        text-align: right;\n",
       "    }\n",
       "</style>\n",
       "<table border=\"1\" class=\"dataframe\">\n",
       "  <thead>\n",
       "    <tr style=\"text-align: right;\">\n",
       "      <th></th>\n",
       "      <th>ages</th>\n",
       "      <th>list_price</th>\n",
       "      <th>num_reviews</th>\n",
       "      <th>piece_count</th>\n",
       "      <th>play_star_rating</th>\n",
       "      <th>review_difficulty</th>\n",
       "      <th>star_rating</th>\n",
       "      <th>theme_name</th>\n",
       "      <th>val_star_rating</th>\n",
       "      <th>country</th>\n",
       "    </tr>\n",
       "  </thead>\n",
       "  <tbody>\n",
       "    <tr>\n",
       "      <th>ages</th>\n",
       "      <td>1.000000</td>\n",
       "      <td>-0.076763</td>\n",
       "      <td>-0.160969</td>\n",
       "      <td>-0.090685</td>\n",
       "      <td>0.232847</td>\n",
       "      <td>-0.239683</td>\n",
       "      <td>0.102633</td>\n",
       "      <td>0.476178</td>\n",
       "      <td>0.116349</td>\n",
       "      <td>-0.001526</td>\n",
       "    </tr>\n",
       "    <tr>\n",
       "      <th>list_price</th>\n",
       "      <td>-0.076763</td>\n",
       "      <td>1.000000</td>\n",
       "      <td>0.439499</td>\n",
       "      <td>0.866119</td>\n",
       "      <td>0.145151</td>\n",
       "      <td>-0.284760</td>\n",
       "      <td>0.126577</td>\n",
       "      <td>0.192707</td>\n",
       "      <td>0.114612</td>\n",
       "      <td>0.018192</td>\n",
       "    </tr>\n",
       "    <tr>\n",
       "      <th>num_reviews</th>\n",
       "      <td>-0.160969</td>\n",
       "      <td>0.439499</td>\n",
       "      <td>1.000000</td>\n",
       "      <td>0.542924</td>\n",
       "      <td>0.151801</td>\n",
       "      <td>-0.196846</td>\n",
       "      <td>0.160762</td>\n",
       "      <td>0.012342</td>\n",
       "      <td>0.172431</td>\n",
       "      <td>0.001953</td>\n",
       "    </tr>\n",
       "    <tr>\n",
       "      <th>piece_count</th>\n",
       "      <td>-0.090685</td>\n",
       "      <td>0.866119</td>\n",
       "      <td>0.542924</td>\n",
       "      <td>1.000000</td>\n",
       "      <td>0.174411</td>\n",
       "      <td>-0.312239</td>\n",
       "      <td>0.180903</td>\n",
       "      <td>0.173318</td>\n",
       "      <td>0.192863</td>\n",
       "      <td>0.002506</td>\n",
       "    </tr>\n",
       "    <tr>\n",
       "      <th>play_star_rating</th>\n",
       "      <td>0.232847</td>\n",
       "      <td>0.145151</td>\n",
       "      <td>0.151801</td>\n",
       "      <td>0.174411</td>\n",
       "      <td>1.000000</td>\n",
       "      <td>-0.670508</td>\n",
       "      <td>0.902573</td>\n",
       "      <td>0.151078</td>\n",
       "      <td>0.921824</td>\n",
       "      <td>-0.000958</td>\n",
       "    </tr>\n",
       "    <tr>\n",
       "      <th>review_difficulty</th>\n",
       "      <td>-0.239683</td>\n",
       "      <td>-0.284760</td>\n",
       "      <td>-0.196846</td>\n",
       "      <td>-0.312239</td>\n",
       "      <td>-0.670508</td>\n",
       "      <td>1.000000</td>\n",
       "      <td>-0.637901</td>\n",
       "      <td>-0.153948</td>\n",
       "      <td>-0.650333</td>\n",
       "      <td>0.006417</td>\n",
       "    </tr>\n",
       "    <tr>\n",
       "      <th>star_rating</th>\n",
       "      <td>0.102633</td>\n",
       "      <td>0.126577</td>\n",
       "      <td>0.160762</td>\n",
       "      <td>0.180903</td>\n",
       "      <td>0.902573</td>\n",
       "      <td>-0.637901</td>\n",
       "      <td>1.000000</td>\n",
       "      <td>0.065264</td>\n",
       "      <td>0.908720</td>\n",
       "      <td>-0.003865</td>\n",
       "    </tr>\n",
       "    <tr>\n",
       "      <th>theme_name</th>\n",
       "      <td>0.476178</td>\n",
       "      <td>0.192707</td>\n",
       "      <td>0.012342</td>\n",
       "      <td>0.173318</td>\n",
       "      <td>0.151078</td>\n",
       "      <td>-0.153948</td>\n",
       "      <td>0.065264</td>\n",
       "      <td>1.000000</td>\n",
       "      <td>0.097430</td>\n",
       "      <td>-0.003625</td>\n",
       "    </tr>\n",
       "    <tr>\n",
       "      <th>val_star_rating</th>\n",
       "      <td>0.116349</td>\n",
       "      <td>0.114612</td>\n",
       "      <td>0.172431</td>\n",
       "      <td>0.192863</td>\n",
       "      <td>0.921824</td>\n",
       "      <td>-0.650333</td>\n",
       "      <td>0.908720</td>\n",
       "      <td>0.097430</td>\n",
       "      <td>1.000000</td>\n",
       "      <td>0.002413</td>\n",
       "    </tr>\n",
       "    <tr>\n",
       "      <th>country</th>\n",
       "      <td>-0.001526</td>\n",
       "      <td>0.018192</td>\n",
       "      <td>0.001953</td>\n",
       "      <td>0.002506</td>\n",
       "      <td>-0.000958</td>\n",
       "      <td>0.006417</td>\n",
       "      <td>-0.003865</td>\n",
       "      <td>-0.003625</td>\n",
       "      <td>0.002413</td>\n",
       "      <td>1.000000</td>\n",
       "    </tr>\n",
       "  </tbody>\n",
       "</table>\n",
       "</div>"
      ],
      "text/plain": [
       "                       ages  list_price  num_reviews  piece_count  \\\n",
       "ages               1.000000   -0.076763    -0.160969    -0.090685   \n",
       "list_price        -0.076763    1.000000     0.439499     0.866119   \n",
       "num_reviews       -0.160969    0.439499     1.000000     0.542924   \n",
       "piece_count       -0.090685    0.866119     0.542924     1.000000   \n",
       "play_star_rating   0.232847    0.145151     0.151801     0.174411   \n",
       "review_difficulty -0.239683   -0.284760    -0.196846    -0.312239   \n",
       "star_rating        0.102633    0.126577     0.160762     0.180903   \n",
       "theme_name         0.476178    0.192707     0.012342     0.173318   \n",
       "val_star_rating    0.116349    0.114612     0.172431     0.192863   \n",
       "country           -0.001526    0.018192     0.001953     0.002506   \n",
       "\n",
       "                   play_star_rating  review_difficulty  star_rating  \\\n",
       "ages                       0.232847          -0.239683     0.102633   \n",
       "list_price                 0.145151          -0.284760     0.126577   \n",
       "num_reviews                0.151801          -0.196846     0.160762   \n",
       "piece_count                0.174411          -0.312239     0.180903   \n",
       "play_star_rating           1.000000          -0.670508     0.902573   \n",
       "review_difficulty         -0.670508           1.000000    -0.637901   \n",
       "star_rating                0.902573          -0.637901     1.000000   \n",
       "theme_name                 0.151078          -0.153948     0.065264   \n",
       "val_star_rating            0.921824          -0.650333     0.908720   \n",
       "country                   -0.000958           0.006417    -0.003865   \n",
       "\n",
       "                   theme_name  val_star_rating   country  \n",
       "ages                 0.476178         0.116349 -0.001526  \n",
       "list_price           0.192707         0.114612  0.018192  \n",
       "num_reviews          0.012342         0.172431  0.001953  \n",
       "piece_count          0.173318         0.192863  0.002506  \n",
       "play_star_rating     0.151078         0.921824 -0.000958  \n",
       "review_difficulty   -0.153948        -0.650333  0.006417  \n",
       "star_rating          0.065264         0.908720 -0.003865  \n",
       "theme_name           1.000000         0.097430 -0.003625  \n",
       "val_star_rating      0.097430         1.000000  0.002413  \n",
       "country             -0.003625         0.002413  1.000000  "
      ]
     },
     "execution_count": 43,
     "metadata": {},
     "output_type": "execute_result"
    }
   ],
   "source": [
    "train.corr()"
   ]
  },
  {
   "cell_type": "code",
   "execution_count": 44,
   "metadata": {},
   "outputs": [
    {
     "data": {
      "image/png": "[encoded data removed]",
      "text/plain": [
       "<Figure size 720x504 with 2 Axes>"
      ]
     },
     "metadata": {
      "needs_background": "light"
     },
     "output_type": "display_data"
    }
   ],
   "source": [
    "# Code starts here\n",
    "\n",
    "_ = plt.figure(figsize=(10,7))\n",
    "corr_ = train.corr()\n",
    "\n",
    "sns.heatmap(corr_,linewidths=.5,square=True,cmap =\"YlGnBu\",annot=True)\n",
    "plt.title('Heatmap of features')\n",
    "plt.show()\n",
    "\n",
    "\n",
    "\n",
    "\n",
    "# Code ends here."
   ]
  },
  {
   "cell_type": "markdown",
   "metadata": {},
   "source": [
    "We are looking the correlation between the features and we found that some features have multicollinearity\n",
    "Therfore we are removing them"
   ]
  },
  {
   "cell_type": "code",
   "execution_count": 58,
   "metadata": {},
   "outputs": [],
   "source": [
    "def correlation(dataset, threshold):\n",
    "    col_corr = set()  # Set of all the names of correlated columns\n",
    "    corr_matrix = dataset.corr()\n",
    "    for i in range(len(corr_matrix.columns)):\n",
    "        for j in range(i):\n",
    "            if abs(corr_matrix.iloc[i, j]) > threshold: # we are interested in absolute coeff value\n",
    "                colname = corr_matrix.columns[i]  # getting the name of column\n",
    "                col_corr.add(colname)\n",
    "    return col_corr"
   ]
  },
  {
   "cell_type": "code",
   "execution_count": 60,
   "metadata": {},
   "outputs": [
    {
     "data": {
      "text/plain": [
       "{'piece_count', 'star_rating', 'val_star_rating'}"
      ]
     },
     "execution_count": 60,
     "metadata": {},
     "output_type": "execute_result"
    }
   ],
   "source": [
    "correlation(train,0.7)"
   ]
  },
  {
   "cell_type": "code",
   "execution_count": 45,
   "metadata": {},
   "outputs": [
    {
     "data": {
      "text/plain": [
       "Index(['ages', 'list_price', 'num_reviews', 'piece_count', 'play_star_rating',\n",
       "       'review_difficulty', 'star_rating', 'theme_name', 'val_star_rating',\n",
       "       'country'],\n",
       "      dtype='object')"
      ]
     },
     "execution_count": 45,
     "metadata": {},
     "output_type": "execute_result"
    }
   ],
   "source": [
    "train.columns"
   ]
  },
  {
   "cell_type": "code",
   "execution_count": 46,
   "metadata": {},
   "outputs": [],
   "source": [
    "y= train.loc[:,['list_price']]\n",
    "\n",
    "\n"
   ]
  },
  {
   "cell_type": "code",
   "execution_count": 62,
   "metadata": {},
   "outputs": [],
   "source": [
    "X = train.loc[:,[ 'piece_count',\n",
    "                 'theme_name',\n",
    "                 'val_star_rating',\n",
    "                 'review_difficulty',\n",
    "                'star_rating' ,\n",
    "                 'play_star_rating',\n",
    "                  'num_reviews'\n",
    "                 \n",
    " ]]\n",
    "X2 = train.loc[:,['piece_count', 'star_rating', 'val_star_rating']]"
   ]
  },
  {
   "cell_type": "markdown",
   "metadata": {},
   "source": [
    "### Model building"
   ]
  },
  {
   "cell_type": "markdown",
   "metadata": {},
   "source": [
    "First Buliding the model with all features"
   ]
  },
  {
   "cell_type": "code",
   "execution_count": null,
   "metadata": {},
   "outputs": [],
   "source": [
    "# Code starts here\n",
    "\n",
    "X_train, X_test, y_train, y_test= train_test_split(X,y,test_size=0.2,random_state = 0)\n",
    "\n",
    "\n",
    "\n",
    "lr = LinearRegression()\n",
    "lr.fit(X_train,y_train)\n",
    "\n",
    "y_pred = lr.predict(X_test)\n",
    "\n",
    "\n",
    "\n",
    "# Code ends here."
   ]
  },
  {
   "cell_type": "code",
   "execution_count": 77,
   "metadata": {},
   "outputs": [
    {
     "data": {
      "text/plain": [
       "50.234953032364544"
      ]
     },
     "execution_count": 77,
     "metadata": {},
     "output_type": "execute_result"
    }
   ],
   "source": [
    "np.sqrt(mean_squared_error(y_test,y_pred,squared=True))"
   ]
  },
  {
   "cell_type": "code",
   "execution_count": 78,
   "metadata": {},
   "outputs": [
    {
     "data": {
      "text/plain": [
       "0.7488834591326543"
      ]
     },
     "execution_count": 78,
     "metadata": {},
     "output_type": "execute_result"
    }
   ],
   "source": [
    "r2_score(y_test,y_pred)"
   ]
  },
  {
   "cell_type": "markdown",
   "metadata": {},
   "source": [
    "Building model features with 'piece_count', 'star_rating', 'val_star_rating'"
   ]
  },
  {
   "cell_type": "code",
   "execution_count": 63,
   "metadata": {},
   "outputs": [],
   "source": [
    "X2_train, X2_test, y_train, y_test= train_test_split(X2,y,test_size=0.2,random_state = 0)\n",
    "\n",
    "\n",
    "\n",
    "lr2 = LinearRegression()\n",
    "lr2.fit(X2_train,y_train)\n",
    "\n",
    "y_pred2 = lr2.predict(X2_test)\n"
   ]
  },
  {
   "cell_type": "markdown",
   "metadata": {},
   "source": [
    "### Residual check!\n",
    "\n",
    "- Check the distribution of the residual."
   ]
  },
  {
   "cell_type": "code",
   "execution_count": 64,
   "metadata": {},
   "outputs": [
    {
     "data": {
      "text/plain": [
       "51.457185037264495"
      ]
     },
     "execution_count": 64,
     "metadata": {},
     "output_type": "execute_result"
    }
   ],
   "source": [
    "np.sqrt(mean_squared_error(y_test,y_pred2,squared=True))"
   ]
  },
  {
   "cell_type": "code",
   "execution_count": 65,
   "metadata": {},
   "outputs": [
    {
     "data": {
      "text/plain": [
       "0.7365153203597962"
      ]
     },
     "execution_count": 65,
     "metadata": {},
     "output_type": "execute_result"
    }
   ],
   "source": [
    "r2_score(y_test,y_pred2)"
   ]
  },
  {
   "cell_type": "markdown",
   "metadata": {},
   "source": [
    "### Prediction on the test data and creating the sample submission file.\n",
    "\n",
    "- Load the test data and store the `Id` column in a separate variable.\n",
    "- Perform the same operations on the test data that you have performed on the train data.\n",
    "- Create the submission file as a `csv` file consisting of the `Id` column from the test data and your prediction as the second column."
   ]
  },
  {
   "cell_type": "code",
   "execution_count": 66,
   "metadata": {},
   "outputs": [],
   "source": [
    "# Code starts here\n",
    "test = test.loc[:,[ 'piece_count',\n",
    "\n",
    "'theme_name',\n",
    "                 'val_star_rating',\n",
    "                 'review_difficulty',\n",
    "                'star_rating' ,\n",
    "                 'play_star_rating',\n",
    "                  'num_reviews'\n",
    "                 \n",
    " ]]\n",
    "\n",
    "\n",
    "test2 = test.loc[:,['piece_count', 'star_rating', 'val_star_rating']]\n",
    "\n",
    "\n",
    "\n",
    "# Code ends here."
   ]
  },
  {
   "cell_type": "code",
   "execution_count": 51,
   "metadata": {},
   "outputs": [],
   "source": [
    "ids = test['Id']"
   ]
  },
  {
   "cell_type": "code",
   "execution_count": 73,
   "metadata": {},
   "outputs": [],
   "source": [
    "# Code starts here\n",
    "\n",
    "def download_pred(preds_test,file_name ):\n",
    "    ss[TARGET] = preds_test\n",
    "    ss.to_csv(file_name,index = False)\n",
    "    \n",
    "\n",
    "\n",
    "\n",
    "\n",
    "\n",
    "\n",
    "\n",
    "\n",
    "\n",
    "\n",
    "# Code ends here."
   ]
  },
  {
   "cell_type": "code",
   "execution_count": 80,
   "metadata": {},
   "outputs": [],
   "source": [
    "test_preds = lr.predict(test)"
   ]
  },
  {
   "cell_type": "code",
   "execution_count": 67,
   "metadata": {},
   "outputs": [],
   "source": [
    "test_preds2 = lr2.predict(test2)"
   ]
  },
  {
   "cell_type": "code",
   "execution_count": 55,
   "metadata": {},
   "outputs": [],
   "source": [
    "new_dataf = pd.DataFrame()\n",
    "new_dataf['id'] = ids\n",
    "new_dataf['list_price'] = test_preds\n"
   ]
  },
  {
   "cell_type": "code",
   "execution_count": 68,
   "metadata": {},
   "outputs": [],
   "source": [
    "new_dataf2 = pd.DataFrame()\n",
    "new_dataf2['id'] = ids\n",
    "new_dataf2['list_price'] = test_preds2\n"
   ]
  },
  {
   "cell_type": "code",
   "execution_count": 70,
   "metadata": {},
   "outputs": [],
   "source": [
    "new_dataf2.to_csv('submission_4_linear_regression.csv',index=True)"
   ]
  },
  {
   "cell_type": "code",
   "execution_count": 81,
   "metadata": {},
   "outputs": [],
   "source": [
    "download_pred(preds_test=test_preds,file_name='Linear_regression_with all features.csv')"
   ]
  },
  {
   "cell_type": "code",
   "execution_count": 76,
   "metadata": {},
   "outputs": [],
   "source": [
    "download_pred(preds_test=test_preds2,file_name='Linear_regression_submission.csv')"
   ]
  }
 ],
 "metadata": {
  "kernelspec": {
   "display_name": "Python 3",
   "language": "python",
   "name": "python3"
  },
  "language_info": {
   "codemirror_mode": {
    "name": "ipython",
    "version": 3
   },
   "file_extension": ".py",
   "mimetype": "text/x-python",
   "name": "python",
   "nbconvert_exporter": "python",
   "pygments_lexer": "ipython3",
   "version": "3.8.3"
  }
 },
 "nbformat": 4,
 "nbformat_minor": 2
}
